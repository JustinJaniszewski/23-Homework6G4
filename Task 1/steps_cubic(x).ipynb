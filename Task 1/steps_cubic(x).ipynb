{
  "nbformat": 4,
  "nbformat_minor": 0,
  "metadata": {
    "colab": {
      "provenance": [],
      "authorship_tag": "ABX9TyMw92oAmaOE652yw2QSJbM7",
      "include_colab_link": true
    },
    "kernelspec": {
      "name": "python3",
      "display_name": "Python 3"
    },
    "language_info": {
      "name": "python"
    }
  },
  "cells": [
    {
      "cell_type": "markdown",
      "metadata": {
        "id": "view-in-github",
        "colab_type": "text"
      },
      "source": [
        "<a href=\"https://colab.research.google.com/github/pratibha77118/23-Homework6G4/blob/function_efficiency/steps_cubic(x).ipynb\" target=\"_parent\"><img src=\"https://colab.research.google.com/assets/colab-badge.svg\" alt=\"Open In Colab\"/></a>"
      ]
    },
    {
      "cell_type": "code",
      "execution_count": 64,
      "metadata": {
        "id": "pHA5pj2gse1E"
      },
      "outputs": [],
      "source": [
        "from pickle import TRUE\n",
        "import numpy as np\n",
        "def simpson(f, a, b, n, accuracy):\n",
        "\n",
        "    \"\"\"\n",
        "    Approximate the definite integral of a given function using Simpson's rule.\n",
        "\n",
        "    Parameters:\n",
        "    - f (function): The integrand function.\n",
        "    - a (float): The lower limit of integration.\n",
        "    - b (float): The upper limit of integration.\n",
        "    - n (int): The initial number of subintervals for Simpson's rule.\n",
        "    - accuracy (float): The desired accuracy for the approximation.\n",
        "\n",
        "    Returns:\n",
        "    - Approximate integral value and the number of iterations\n",
        "      required to achieve specified accuracy.\n",
        "    \"\"\"\n",
        "    def compute_simpson_integral(n):\n",
        "        h = (b - a) / n\n",
        "        i = np.arange(0, n)\n",
        "        s = f(a) + f(b) + 4 * np.sum(f(a + i[1::2] * h)) + 2 * np.sum(f(a + i[2:-1:2] * h))\n",
        "        return s * h / 3\n",
        "\n",
        "    old_integral = compute_simpson_integral(n)\n",
        "    iterations = 1\n",
        "    while True:\n",
        "        n *= 2\n",
        "        new_integral = compute_simpson_integral(n)\n",
        "        if np.abs(new_integral - old_integral) < accuracy:\n",
        "            return new_integral, iterations\n",
        "        old_integral = new_integral\n",
        "        iterations += 1\n",
        "\n",
        "\n",
        "def trapezoid(f, a, b, n, accuracy):\n",
        "  \"\"\"\n",
        "    Approximate the definite integral of a given function using Trapezoid's rule.\n",
        "\n",
        "    Parameters:\n",
        "    - f (function): The integrand function.\n",
        "    - a (float): The lower limit of integration.\n",
        "    - b (float): The upper limit of integration.\n",
        "    - n (int): The initial number of subintervals for trapezoid rule.\n",
        "    - accuracy (float): The desired accuracy for the approximation.\n",
        "\n",
        "    Returns:\n",
        "    - Approximate integral value and the number of iterations\n",
        "      required to achieve specified accuracy.\n",
        "    \"\"\"\n",
        "  def compute_trapezoid_integral(n):\n",
        "        h = (b - a) / n\n",
        "        s = f(a) + f(b) + 2 * np.sum(f(a + np.arange(1, n) * h))\n",
        "        return s * h / 2\n",
        "\n",
        "  old_integral = compute_trapezoid_integral(n)\n",
        "  iterations = 1\n",
        "  while True:\n",
        "        n *= 2\n",
        "        new_integral = compute_trapezoid_integral(n)\n",
        "        if np.abs(new_integral - old_integral) < accuracy:\n",
        "            return new_integral, iterations\n",
        "        old_integral = new_integral\n",
        "        iterations += 1\n",
        "\n",
        "def adaptive_trapezoid(f, a, b, accuracy):\n",
        "  \"\"\"\n",
        "    Approximate the definite integral of a given function using Adaptive trapezoid's rule.\n",
        "\n",
        "    Parameters:\n",
        "    - f (function): The integrand function.\n",
        "    - a (float): The lower limit of integration.\n",
        "    - b (float): The upper limit of integration.\n",
        "    - n (int): The initial number of subintervals for adaptive trapezoid rule.\n",
        "    - accuracy (float): The desired accuracy for the approximation.\n",
        "\n",
        "    Returns:\n",
        "    -  Approximate integral value and the number of iterations\n",
        "      required to achieve specified accuracy.\n",
        "    \"\"\"\n",
        "  old_s = np.inf\n",
        "  h = b - a\n",
        "  n = 1\n",
        "  s = (f(a) + f(b)) * 0.5\n",
        "  iterations = 0  # Initialize iteration counter\n",
        "\n",
        "  while abs(h * (old_s - s * 0.5)) > accuracy:\n",
        "        iterations += 1  # Increment the iteration counter\n",
        "        old_s = s\n",
        "        for i in np.arange(n):\n",
        "            s += f(a + (i + 0.5) * h)\n",
        "        n *= 2\n",
        "        h *= 0.5\n",
        "\n",
        "  return h * s, iterations  # Return the integral and the number of iterations\n",
        "\n",
        "\n",
        "\n"
      ]
    },
    {
      "cell_type": "code",
      "source": [
        "%%writefile iteration.py"
      ],
      "metadata": {
        "colab": {
          "base_uri": "https://localhost:8080/"
        },
        "id": "a4N-_ZqtJlt-",
        "outputId": "3735b8e3-14ce-48bc-d5e0-04df3c692d77"
      },
      "execution_count": 61,
      "outputs": [
        {
          "output_type": "stream",
          "name": "stdout",
          "text": [
            "Overwriting iteration.py\n"
          ]
        }
      ]
    },
    {
      "cell_type": "code",
      "source": [
        "\n",
        "import math\n",
        "import numpy as np\n",
        "import matplotlib.pyplot as plt\n",
        "from math import pi\n",
        "\n",
        "# Import the simpson function from calculus.py (assuming it's in the same directory)\n",
        "from iteration import *\n",
        "\n",
        "\"\"\"\n",
        " Numerical integration techniques for the function f(x) = x**3 + 1/4 over a given interval.\n",
        "Functions:\n",
        "- f(x): The function to be integrated,with special handling for x=0 to avoid numerical issues.\n",
        "- simpson(f, a, b, n): Implementation of Simpson's rule for numerical integration.\n",
        "- trapezoid(f, a, b, n): Implementation of the trapezoidal rule for numerical integration.\n",
        "- adaptive_trapezoid(f, a, b, desired_accuracy, output): Implementation of adaptive trapezoidal integration.\n",
        "\n",
        "Variables:\n",
        "- a: Lower bound of the integration interval.\n",
        "- b: Upper bound of the integration interval.\n",
        "- n: Number of subintervals for Simpson's and trapezoidal rule.\n",
        "- desired_accuracy: Desired accuracy for the adaptive trapezoidal integration.\n",
        "- simpson_integral, trapezoid_integral, adaptive_integral: Results of numerical integration.\n",
        "\"\"\"\n",
        "\n",
        "# Function to calculate (x**3 + 1/4)\n",
        "def cubic(x, constant=1/4):\n",
        "    return x**3 + constant\n",
        "\n",
        "\n",
        " # Define the integration bounds\n",
        "a = -1\n",
        "b = 1\n",
        "accuracy = 1e-3\n",
        "\n",
        "\n",
        "# Define the number of subintervals\n",
        "n = 20\n",
        "simpson_integral, simpson_iterations = simpson(f, a, b, n, accuracy)\n",
        "trapezoid_integral, trapezoid_iterations = trapezoid(f, a, b, n, accuracy)\n",
        "adaptive_integral, adaptive_evaluations = adaptive_trapezoid(f, a, b, accuracy)\n",
        "\n",
        "print(f\"Simpson: Integral = {simpson_integral}, Func = (x**3 + 1/4), Iterations = {simpson_iterations}\")\n",
        "print(f\"Trapezoidal: Integral = {trapezoid_integral}, Func = (x**3 + 1/4), Iterations = {trapezoid_iterations}\")\n",
        "print(f\"Adaptive Trapezoidal : Integral = {adaptive_integral}, Func = (x**3 + 1/4), Evaluations = {adaptive_evaluations}\")\n",
        "\n",
        "\n",
        "\n",
        "\n",
        "\n",
        "\n"
      ],
      "metadata": {
        "colab": {
          "base_uri": "https://localhost:8080/"
        },
        "id": "e3zrW3hJTRvh",
        "outputId": "bc275a14-e54a-4457-d5d0-778e286609c2"
      },
      "execution_count": 72,
      "outputs": [
        {
          "output_type": "stream",
          "name": "stdout",
          "text": [
            "Simpson: Integral = 0.7720269199945378, Func = (x**3 + 1/4), Iterations = 4\n",
            "Trapezoidal: Integral = 0.7723203271675185, Func = (x**3 + 1/4), Iterations = 4\n",
            "Adaptive Trapezoidal : Integral = 0.7857186738909117, Func = (x**3 + 1/4), Evaluations = 11\n"
          ]
        }
      ]
    }
  ]
}
