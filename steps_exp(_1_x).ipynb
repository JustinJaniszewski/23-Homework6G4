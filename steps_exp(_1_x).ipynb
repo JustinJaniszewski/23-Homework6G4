{
  "nbformat": 4,
  "nbformat_minor": 0,
  "metadata": {
    "colab": {
      "provenance": [],
      "authorship_tag": "ABX9TyMUdMaRrc2bP6aRc8IbjcqU",
      "include_colab_link": true
    },
    "kernelspec": {
      "name": "python3",
      "display_name": "Python 3"
    },
    "language_info": {
      "name": "python"
    }
  },
  "cells": [
    {
      "cell_type": "markdown",
      "metadata": {
        "id": "view-in-github",
        "colab_type": "text"
      },
      "source": [
        "<a href=\"https://colab.research.google.com/github/pratibha77118/23-Homework6G4/blob/function_efficiency/steps_exp(_1_x).ipynb\" target=\"_parent\"><img src=\"https://colab.research.google.com/assets/colab-badge.svg\" alt=\"Open In Colab\"/></a>"
      ]
    },
    {
      "cell_type": "code",
      "execution_count": 64,
      "metadata": {
        "id": "pHA5pj2gse1E"
      },
      "outputs": [],
      "source": [
        "from pickle import TRUE\n",
        "import numpy as np\n",
        "def simpson(f, a, b, n, accuracy):\n",
        "\n",
        "    \"\"\"\n",
        "    Approximate the definite integral of a given function using Simpson's rule.\n",
        "\n",
        "    Parameters:\n",
        "    - f (function): The integrand function.\n",
        "    - a (float): The lower limit of integration.\n",
        "    - b (float): The upper limit of integration.\n",
        "    - n (int): The initial number of subintervals for Simpson's rule.\n",
        "    - accuracy (float): The desired accuracy for the approximation.\n",
        "\n",
        "    Returns:\n",
        "    - Approximate integral value and the number of iterations\n",
        "      required to achieve specified accuracy.\n",
        "    \"\"\"\n",
        "    def compute_simpson_integral(n):\n",
        "        h = (b - a) / n\n",
        "        i = np.arange(0, n)\n",
        "        s = f(a) + f(b) + 4 * np.sum(f(a + i[1::2] * h)) + 2 * np.sum(f(a + i[2:-1:2] * h))\n",
        "        return s * h / 3\n",
        "\n",
        "    old_integral = compute_simpson_integral(n)\n",
        "    iterations = 1\n",
        "    while True:\n",
        "        n *= 2\n",
        "        new_integral = compute_simpson_integral(n)\n",
        "        if np.abs(new_integral - old_integral) < accuracy:\n",
        "            return new_integral, iterations\n",
        "        old_integral = new_integral\n",
        "        iterations += 1\n",
        "\n",
        "\n",
        "def trapezoid(f, a, b, n, accuracy):\n",
        "  \"\"\"\n",
        "    Approximate the definite integral of a given function using Trapezoid's rule.\n",
        "\n",
        "    Parameters:\n",
        "    - f (function): The integrand function.\n",
        "    - a (float): The lower limit of integration.\n",
        "    - b (float): The upper limit of integration.\n",
        "    - n (int): The initial number of subintervals for trapezoid rule.\n",
        "    - accuracy (float): The desired accuracy for the approximation.\n",
        "\n",
        "    Returns:\n",
        "    - Approximate integral value and the number of iterations\n",
        "      required to achieve specified accuracy.\n",
        "    \"\"\"\n",
        "  def compute_trapezoid_integral(n):\n",
        "        h = (b - a) / n\n",
        "        s = f(a) + f(b) + 2 * np.sum(f(a + np.arange(1, n) * h))\n",
        "        return s * h / 2\n",
        "\n",
        "  old_integral = compute_trapezoid_integral(n)\n",
        "  iterations = 1\n",
        "  while True:\n",
        "        n *= 2\n",
        "        new_integral = compute_trapezoid_integral(n)\n",
        "        if np.abs(new_integral - old_integral) < accuracy:\n",
        "            return new_integral, iterations\n",
        "        old_integral = new_integral\n",
        "        iterations += 1\n",
        "\n",
        "def adaptive_trapezoid(f, a, b, accuracy):\n",
        "  \"\"\"\n",
        "    Approximate the definite integral of a given function using Adaptive trapezoid's rule.\n",
        "\n",
        "    Parameters:\n",
        "    - f (function): The integrand function.\n",
        "    - a (float): The lower limit of integration.\n",
        "    - b (float): The upper limit of integration.\n",
        "    - n (int): The initial number of subintervals for adaptive trapezoid rule.\n",
        "    - accuracy (float): The desired accuracy for the approximation.\n",
        "\n",
        "    Returns:\n",
        "    -  Approximate integral value and the number of iterations\n",
        "      required to achieve specified accuracy.\n",
        "    \"\"\"\n",
        "  old_s = np.inf\n",
        "  h = b - a\n",
        "  n = 1\n",
        "  s = (f(a) + f(b)) * 0.5\n",
        "  iterations = 0  # Initialize iteration counter\n",
        "\n",
        "  while abs(h * (old_s - s * 0.5)) > accuracy:\n",
        "        iterations += 1  # Increment the iteration counter\n",
        "        old_s = s\n",
        "        for i in np.arange(n):\n",
        "            s += f(a + (i + 0.5) * h)\n",
        "        n *= 2\n",
        "        h *= 0.5\n",
        "\n",
        "  return h * s, iterations  # Return the integral and the number of iterations\n",
        "\n",
        "\n",
        "\n"
      ]
    },
    {
      "cell_type": "code",
      "source": [
        "%%writefile iteration.py"
      ],
      "metadata": {
        "colab": {
          "base_uri": "https://localhost:8080/"
        },
        "id": "a4N-_ZqtJlt-",
        "outputId": "3735b8e3-14ce-48bc-d5e0-04df3c692d77"
      },
      "execution_count": 61,
      "outputs": [
        {
          "output_type": "stream",
          "name": "stdout",
          "text": [
            "Overwriting iteration.py\n"
          ]
        }
      ]
    },
    {
      "cell_type": "code",
      "source": [
        "\n",
        "import math\n",
        "import numpy as np\n",
        "import matplotlib.pyplot as plt\n",
        "from math import pi\n",
        "from scipy.integrate import quad\n",
        "# Import the simpson function from calculus.py (assuming it's in the same directory)\n",
        "from iteration import *\n",
        "\n",
        "\"\"\"\n",
        " Numerical integration techniques for the function f(x) = exp(-1/x) over a given interval.\n",
        "Functions:\n",
        "- f(x): The function to be integrated,with special handling for x=0 to avoid numerical issues.\n",
        "- simpson(f, a, b, n): Implementation of Simpson's rule for numerical integration.\n",
        "- trapezoid(f, a, b, n): Implementation of the trapezoidal rule for numerical integration.\n",
        "- adaptive_trapezoid(f, a, b, desired_accuracy, output): Implementation of adaptive trapezoidal integration.\n",
        "\n",
        "Variables:\n",
        "- a: Lower bound of the integration interval.\n",
        "- b: Upper bound of the integration interval.\n",
        "- n: Number of subintervals for Simpson's and trapezoidal rule.\n",
        "- desired_accuracy: Desired accuracy for the adaptive trapezoidal integration.\n",
        "- simpson_integral, trapezoid_integral, adaptive_integral: Results of numerical integration.\n",
        "\"\"\"\n",
        "# Avoid division by zero\n",
        "# Function to calculate exp(-1/x) with handling for x near 0\n",
        "def f(x):\n",
        "    safe_x = np.clip(x, 1e-10, np.inf)\n",
        "    return np.where(x != 0, np.exp(-1/safe_x), 0)\n",
        "\n",
        " # Define the integration bounds\n",
        "a = 1e-6\n",
        "b = 4 * 10\n",
        "accuracy = 1e-3\n",
        "#result, error = quad(f, a, b)\n",
        "\n",
        "# Define the number of subintervals\n",
        "n = 20\n",
        "simpson_integral, simpson_iterations = simpson(f, a, b, n, accuracy)\n",
        "trapezoid_integral, trapezoid_iterations = trapezoid(f, a, b, n, accuracy)\n",
        "adaptive_integral, adaptive_evaluations = adaptive_trapezoid(f, a, b, accuracy)\n",
        "\n",
        "print(f\"Simpson: Integral = {simpson_integral}, Func = exp(-1/x), Iterations = {simpson_iterations}\")\n",
        "print(f\"Trapezoidal: Integral = {trapezoid_integral}, Func = exp(-1/x), Iterations = {trapezoid_iterations}\")\n",
        "print(f\"Adaptive Trapezoidal : Integral = {adaptive_integral}, Func = exp(-1/x), Evaluations = {adaptive_evaluations}\")\n",
        "\n",
        "\n",
        "\n",
        "\n",
        "\n",
        "\n"
      ],
      "metadata": {
        "colab": {
          "base_uri": "https://localhost:8080/"
        },
        "id": "e3zrW3hJTRvh",
        "outputId": "9a2bdcc1-881a-4f07-b20a-3e8228d4b395"
      },
      "execution_count": 69,
      "outputs": [
        {
          "output_type": "stream",
          "name": "stdout",
          "text": [
            "Simpson: Integral = 35.87588736890017, Func = exp(-1/x), Iterations = 5\n",
            "Trapezoidal: Integral = 35.87589070160461, Func = exp(-1/x), Iterations = 4\n",
            "Adaptive Trapezoidal : Integral = 35.87586810903291, Func = exp(-1/x), Evaluations = 8\n"
          ]
        }
      ]
    }
  ]
}